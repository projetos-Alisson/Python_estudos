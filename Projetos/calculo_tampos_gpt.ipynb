{
 "cells": [
  {
   "cell_type": "markdown",
   "id": "c6e5ebc4",
   "metadata": {},
   "source": [
    "🟩 Bloco 1 – Introdução e função de cálculo\n"
   ]
  },
  {
   "cell_type": "code",
   "execution_count": 1,
   "id": "e289adb8",
   "metadata": {},
   "outputs": [],
   "source": [
    "# Esta função encontra todas as formas de dividir a remessa em pilhas de 15, 16 e 17\n",
    "def buscar_todas_combinacoes(valor_restante, idx=0, montes=[], resultados=[]):\n",
    "    tamanhos = [15, 16, 17]  # Tamanhos possíveis de pilha\n",
    "    \n",
    "    if valor_restante == 0:\n",
    "        # Caso base: se não sobrou nada, adiciona essa combinação à lista final\n",
    "        resultados.append(montes)\n",
    "        return\n",
    "\n",
    "    if idx >= len(tamanhos):\n",
    "        # Se já usamos todos os tamanhos e ainda sobra valor, não é uma solução válida\n",
    "        return\n",
    "\n",
    "    divisor = tamanhos[idx]\n",
    "    max_qtd = valor_restante // divisor  # Quantos montes desse tamanho cabem\n",
    "\n",
    "    # Testa todas as quantidades possíveis desse tamanho, começando do máximo\n",
    "    for qtd in range(max_qtd, -1, -1):\n",
    "        subtotal = qtd * divisor\n",
    "        novo_valor = valor_restante - subtotal\n",
    "        nova_lista = montes + [(divisor, qtd)]\n",
    "        buscar_todas_combinacoes(novo_valor, idx + 1, nova_lista, resultados)"
   ]
  },
  {
   "cell_type": "markdown",
   "id": "e3602e57",
   "metadata": {},
   "source": [
    "🟩 Bloco 2 – Entrada do usuário"
   ]
  },
  {
   "cell_type": "code",
   "execution_count": 2,
   "id": "5f82fb5f",
   "metadata": {},
   "outputs": [
    {
     "name": "stdout",
     "output_type": "stream",
     "text": [
      "Contador de tampos - GRUPO LOPAS 🍀\n",
      "\n"
     ]
    }
   ],
   "source": [
    "# Entrada de dados pelo usuário\n",
    "print(\"Contador de tampos - GRUPO LOPAS 🍀\\n\")\n",
    "\n",
    "nome_peca = input(\"Qual peça irá trabalhar? \")  # Nome da peça (ex: tampo de mesa)\n",
    "remessa = int(input(\"Digite o valor da remessa (total de tampos): \"))  # Quantidade total de tampos\n"
   ]
  },
  {
   "cell_type": "markdown",
   "id": "1d15e5bc",
   "metadata": {},
   "source": [
    "🟩 Bloco 3 – Cálculo e filtragem"
   ]
  },
  {
   "cell_type": "code",
   "execution_count": 3,
   "id": "e90a8959",
   "metadata": {},
   "outputs": [],
   "source": [
    "# Lista que armazenará todas as combinações encontradas\n",
    "resultados = []\n",
    "\n",
    "# Chamada da função para preencher 'resultados'\n",
    "buscar_todas_combinacoes(remessa, resultados=resultados)\n",
    "\n",
    "# Remove os elementos com quantidade 0 apenas para exibir de forma mais limpa\n",
    "resultados_filtrados = []\n",
    "for r in resultados:\n",
    "    resultados_filtrados.append([(d, q) for d, q in r if q > 0])\n"
   ]
  },
  {
   "cell_type": "markdown",
   "id": "92f2de86",
   "metadata": {},
   "source": [
    "🟩 Bloco 4 – Exibição das combinações"
   ]
  },
  {
   "cell_type": "code",
   "execution_count": 4,
   "id": "16f478db",
   "metadata": {},
   "outputs": [
    {
     "name": "stdout",
     "output_type": "stream",
     "text": [
      "\n",
      "Para a peça '170' e uma remessa de 300 tampos:\n",
      "Foram encontradas 13 combinações possíveis:\n",
      "\n",
      "Combinação 1:\n",
      "  - 20 pilha(s) com 15 tampos (total: 300)\n",
      "----------------------------------------\n",
      "Combinação 2:\n",
      "  - 11 pilha(s) com 15 tampos (total: 165)\n",
      "  - 1 pilha(s) com 16 tampos (total: 16)\n",
      "  - 7 pilha(s) com 17 tampos (total: 119)\n",
      "----------------------------------------\n",
      "Combinação 3:\n",
      "  - 10 pilha(s) com 15 tampos (total: 150)\n",
      "  - 3 pilha(s) com 16 tampos (total: 48)\n",
      "  - 6 pilha(s) com 17 tampos (total: 102)\n",
      "----------------------------------------\n",
      "Combinação 4:\n",
      "  - 9 pilha(s) com 15 tampos (total: 135)\n",
      "  - 5 pilha(s) com 16 tampos (total: 80)\n",
      "  - 5 pilha(s) com 17 tampos (total: 85)\n",
      "----------------------------------------\n",
      "Combinação 5:\n",
      "  - 8 pilha(s) com 15 tampos (total: 120)\n",
      "  - 7 pilha(s) com 16 tampos (total: 112)\n",
      "  - 4 pilha(s) com 17 tampos (total: 68)\n",
      "----------------------------------------\n",
      "Combinação 6:\n",
      "  - 7 pilha(s) com 15 tampos (total: 105)\n",
      "  - 9 pilha(s) com 16 tampos (total: 144)\n",
      "  - 3 pilha(s) com 17 tampos (total: 51)\n",
      "----------------------------------------\n",
      "Combinação 7:\n",
      "  - 6 pilha(s) com 15 tampos (total: 90)\n",
      "  - 11 pilha(s) com 16 tampos (total: 176)\n",
      "  - 2 pilha(s) com 17 tampos (total: 34)\n",
      "----------------------------------------\n",
      "Combinação 8:\n",
      "  - 5 pilha(s) com 15 tampos (total: 75)\n",
      "  - 13 pilha(s) com 16 tampos (total: 208)\n",
      "  - 1 pilha(s) com 17 tampos (total: 17)\n",
      "----------------------------------------\n",
      "Combinação 9:\n",
      "  - 4 pilha(s) com 15 tampos (total: 60)\n",
      "  - 15 pilha(s) com 16 tampos (total: 240)\n",
      "----------------------------------------\n",
      "Combinação 10:\n",
      "  - 3 pilha(s) com 15 tampos (total: 45)\n",
      "  - 15 pilha(s) com 17 tampos (total: 255)\n",
      "----------------------------------------\n",
      "Combinação 11:\n",
      "  - 2 pilha(s) com 15 tampos (total: 30)\n",
      "  - 2 pilha(s) com 16 tampos (total: 32)\n",
      "  - 14 pilha(s) com 17 tampos (total: 238)\n",
      "----------------------------------------\n",
      "Combinação 12:\n",
      "  - 1 pilha(s) com 15 tampos (total: 15)\n",
      "  - 4 pilha(s) com 16 tampos (total: 64)\n",
      "  - 13 pilha(s) com 17 tampos (total: 221)\n",
      "----------------------------------------\n",
      "Combinação 13:\n",
      "  - 6 pilha(s) com 16 tampos (total: 96)\n",
      "  - 12 pilha(s) com 17 tampos (total: 204)\n",
      "----------------------------------------\n"
     ]
    }
   ],
   "source": [
    "# Exibe os resultados encontrados\n",
    "if resultados_filtrados:\n",
    "    print(f\"\\nPara a peça '{nome_peca}' e uma remessa de {remessa} tampos:\")\n",
    "    print(f\"Foram encontradas {len(resultados_filtrados)} combinações possíveis:\\n\")\n",
    "\n",
    "    for i, combinacao in enumerate(resultados_filtrados, 1):\n",
    "        print(f\"Combinação {i}:\")\n",
    "        for tamanho, qtd in combinacao:\n",
    "            print(f\"  - {qtd} pilha(s) com {tamanho} tampos (total: {qtd * tamanho})\")\n",
    "        print(\"-\" * 40)\n",
    "else:\n",
    "    print(\"❌ Não foi possível empilhar essa remessa com montes de 15, 16 ou 17 tampos.\")\n"
   ]
  }
 ],
 "metadata": {
  "kernelspec": {
   "display_name": "Python 3",
   "language": "python",
   "name": "python3"
  },
  "language_info": {
   "codemirror_mode": {
    "name": "ipython",
    "version": 3
   },
   "file_extension": ".py",
   "mimetype": "text/x-python",
   "name": "python",
   "nbconvert_exporter": "python",
   "pygments_lexer": "ipython3",
   "version": "3.13.3"
  }
 },
 "nbformat": 4,
 "nbformat_minor": 5
}
