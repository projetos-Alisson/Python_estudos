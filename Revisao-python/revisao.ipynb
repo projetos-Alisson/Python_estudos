{
 "cells": [
  {
   "cell_type": "markdown",
   "id": "d6f4d8c8",
   "metadata": {},
   "source": [
    "🆚 Comparação lado a lado"
   ]
  },
  {
   "cell_type": "markdown",
   "id": "2cd468bf",
   "metadata": {},
   "source": [
    "| Função                  | `os / os.path`                        | `pathlib`                            |\n",
    "| ----------------------- | ------------------------------------- | ------------------------------------ |\n",
    "| Concatenar caminho      | `os.path.join(\"a\", \"b\")`              | `Path(\"a\") / \"b\"`                    |\n",
    "| Verificar existência    | `os.path.exists(\"arquivo.txt\")`       | `Path(\"arquivo.txt\").exists()`       |\n",
    "| Criar diretório         | `os.makedirs(\"pasta\", exist_ok=True)` | `Path(\"pasta\").mkdir(exist_ok=True)` |\n",
    "| Verificar se é arquivo  | `os.path.isfile(\"a.txt\")`             | `Path(\"a.txt\").is_file()`            |\n",
    "| Listar arquivos         | `os.listdir(\"pasta\")`                 | `Path(\"pasta\").iterdir()`            |\n",
    "| Ler conteúdo de arquivo | `open(\"a.txt\").read()`                | `Path(\"a.txt\").read_text()`          |\n",
    "| Escrever em arquivo     | `open(\"a.txt\", \"w\").write(...)`       | `Path(\"a.txt\").write_text(\"...\")`    |\n"
   ]
  },
  {
   "cell_type": "markdown",
   "id": "821dc727",
   "metadata": {},
   "source": [
    "🌿 pathlib\n",
    "✅ Moderno (desde Python 3.4)\n",
    "\n",
    "🧭 Orientado a objetos (programação OO)\n",
    "\n",
    "🔢 Usa objetos Path ao invés de strings\n",
    "\n",
    "🌐 Muito mais legível e intuitivo\n",
    "\n",
    "📚 Substitui (e melhora) os.path, glob, shutil, etc.\n",
    "\n",
    "📌 Exemplo com pathlib"
   ]
  },
  {
   "cell_type": "code",
   "execution_count": null,
   "id": "689ef438",
   "metadata": {},
   "outputs": [],
   "source": [
    "from pathlib import Path\n",
    "\n",
    "caminho = Path(\"pasta\") / \"arquivo.txt\"\n",
    "print(caminho.exists())\n"
   ]
  },
  {
   "cell_type": "markdown",
   "id": "06d5c022",
   "metadata": {},
   "source": [
    "🔧 os (e os.path)\n",
    "✅ Antigo (desde Python 1.x)\n",
    "\n",
    "🧱 Baseado em funções (programação procedural)\n",
    "\n",
    "🔤 Trabalha com strings para representar caminhos\n",
    "\n",
    "🛠 Usa os.path para lidar com caminhos (join, split, etc.)\n",
    "\n",
    "🔄 Compatível com versões antigas do Python"
   ]
  },
  {
   "cell_type": "code",
   "execution_count": null,
   "id": "28e511dd",
   "metadata": {},
   "outputs": [],
   "source": [
    "import os\n",
    "\n",
    "caminho = os.path.join(\"pasta\", \"arquivo.txt\")\n",
    "print(os.path.exists(caminho))\n"
   ]
  },
  {
   "cell_type": "markdown",
   "id": "74021fd1",
   "metadata": {},
   "source": [
    "✅ Quando usar cada um?\n",
    "Cenário\tUse\n",
    "Código moderno, legível e Python 3+\t✅ pathlib (preferido)\n",
    "Compatibilidade com versões antigas do Python\t⚠️ os / os.path\n",
    "Trabalhar com strings diretamente ou comandos os.system()\tos\n",
    "Leitura/escrita orientada a arquivos e OO\tpathlib\n",
    "\n",
    "💡 Conclusão\n",
    "Use pathlib sempre que possível.\n",
    "É mais moderno, legível, seguro, e combina muito bem com boas práticas de programação orientada a objetos."
   ]
  },
  {
   "cell_type": "markdown",
   "id": "873fdb98",
   "metadata": {},
   "source": [
    "Restante em: https://chatgpt.com/share/683e3ff9-c40c-800f-8cce-c6a0a07255b4"
   ]
  }
 ],
 "metadata": {
  "kernelspec": {
   "display_name": "Python 3",
   "language": "python",
   "name": "python3"
  },
  "language_info": {
   "codemirror_mode": {
    "name": "ipython",
    "version": 3
   },
   "file_extension": ".py",
   "mimetype": "text/x-python",
   "name": "python",
   "nbconvert_exporter": "python",
   "pygments_lexer": "ipython3",
   "version": "3.13.3"
  }
 },
 "nbformat": 4,
 "nbformat_minor": 5
}
