{
 "cells": [
  {
   "cell_type": "code",
   "execution_count": null,
   "id": "6aa3203c",
   "metadata": {},
   "outputs": [],
   "source": [
    "options = [{\"Attack\": 10, \"Defense\": 20, \"Magic\": 15}]\n",
    "\n",
    "# Access the first (and only) dictionary in the list\n",
    "dicionario_alvo = options[0]\n",
    "\n",
    "# Convert dictionary items (key-value pairs) into a list\n",
    "itens_dicionario = list(dicionario_alvo.items())"
   ]
  },
  {
   "cell_type": "code",
   "execution_count": null,
   "id": "061a7d75",
   "metadata": {},
   "outputs": [],
   "source": [
    "# Prompt for user input\n",
    "try:\n",
    "    escolha_usuario = int(input(\"Digite o número do atributo que deseja exibir (1 para Attack, 2 para Defense, 3 para Magic): \"))\n",
    "\n",
    "    # Adjust the choice to the list index (which starts at 0)\n",
    "    indice_escolhido = escolha_usuario - 1\n",
    "\n",
    "    # Check if the index is valid\n",
    "    if 0 <= indice_escolhido < len(itens_dicionario):\n",
    "        chave, valor = itens_dicionario[indice_escolhido]\n",
    "        print(f\"{chave}: {valor}\")\n",
    "    else:\n",
    "        print(\"Escolha inválida. Por favor, digite um número correspondente a um atributo existente.\")\n",
    "\n",
    "except ValueError:\n",
    "    print(\"Entrada inválida. Por favor, digite um número.\")\n",
    "except IndexError:\n",
    "    # This exception is more generic, but the check above already covers out-of-bounds index cases.\n",
    "    print(\"Ocorreu um erro ao tentar acessar o atributo.\")"
   ]
  }
 ],
 "metadata": {
  "language_info": {
   "name": "python"
  }
 },
 "nbformat": 4,
 "nbformat_minor": 5
}
